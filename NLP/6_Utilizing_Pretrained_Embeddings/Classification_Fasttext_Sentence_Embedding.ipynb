{
 "cells": [
  {
   "cell_type": "markdown",
   "metadata": {},
   "source": [
    "# Utilizing Fasttext for Sentence Embedding and Classification.\n",
    "\n",
    "### prerequisite\n",
    "\n",
    "1. [FastText](https://fasttext.cc/)\n",
    "\n",
    "2. [Training Sentencepiece](https://github.com/google/sentencepiece)"
   ]
  },
  {
   "cell_type": "code",
   "execution_count": 1,
   "metadata": {},
   "outputs": [],
   "source": [
    "import pandas as pd\n",
    "import sentencepiece as spm\n",
    "from sklearn.preprocessing import LabelEncoder\n",
    "from sklearn.model_selection import train_test_split\n",
    "from sklearn.metrics import classification_report\n",
    "from sklearn.linear_model import LogisticRegression\n",
    "import sklearn\n",
    "import numpy as np"
   ]
  },
  {
   "cell_type": "code",
   "execution_count": 2,
   "metadata": {},
   "outputs": [
    {
     "data": {
      "text/plain": [
       "True"
      ]
     },
     "execution_count": 2,
     "metadata": {},
     "output_type": "execute_result"
    }
   ],
   "source": [
    "df = pd.read_csv(\"my_sentiment_data.csv\") # load your sentiment csv data\n",
    "# it should have two columns text, sentiment\n",
    "# The classification task here leverages sentencepiece as sentencepiece is language agnostic.\n",
    "sp = spm.SentencePieceProcessor()\n",
    "sp.load(\"SentencePiece_Tokenizer.model\") # load sentence piece tokenizer model"
   ]
  },
  {
   "cell_type": "code",
   "execution_count": null,
   "metadata": {},
   "outputs": [],
   "source": [
    "# encode the target column.\n",
    "encoder = LabelEncoder()\n",
    "target = encoder.fit_transform(df.sentiment)"
   ]
  },
  {
   "cell_type": "markdown",
   "metadata": {},
   "source": [
    "# Fasttext Sentence Embedding"
   ]
  },
  {
   "cell_type": "code",
   "execution_count": null,
   "metadata": {},
   "outputs": [],
   "source": [
    "# # Download Fasttext embedding from there website\n",
    "# !wget https://dl.fbaipublicfiles.com/fasttext/vectors-crawl/cc.hi.300.bin.gz\n",
    "# !gunzip cc.hi.300.bin.gz"
   ]
  },
  {
   "cell_type": "code",
   "execution_count": 9,
   "metadata": {},
   "outputs": [
    {
     "name": "stderr",
     "output_type": "stream",
     "text": [
      "\n"
     ]
    }
   ],
   "source": [
    "import fasttext\n",
    "import fasttext.util\n",
    "ft = fasttext.load_model(\"cc.hi.300.bin\") # load the model"
   ]
  },
  {
   "cell_type": "code",
   "execution_count": null,
   "metadata": {},
   "outputs": [],
   "source": [
    "sentence_emb = df.text.apply(ft.get_sentence_vector).apply(\n",
    "    lambda x :x.reshape(1,300)).values.tolist() # get sentence embedding\n",
    "\n",
    "sentence_emb_array = np.concatenate(sentence_emb) # get array\n",
    "\n",
    "# create train test split\n",
    "X_train, X_test, y_train, y_test  = train_test_split(\n",
    "                                        sentence_emb_array ,\n",
    "                                        target,\n",
    "                                        test_size=0.3,\n",
    "                                        stratify=target)"
   ]
  },
  {
   "cell_type": "markdown",
   "metadata": {},
   "source": [
    "## Logistic Regression for classification"
   ]
  },
  {
   "cell_type": "code",
   "execution_count": 10,
   "metadata": {},
   "outputs": [
    {
     "name": "stdout",
     "output_type": "stream",
     "text": [
      "              precision    recall  f1-score   support\n",
      "\n",
      "    negative       0.61      0.68      0.65      1645\n",
      "     neutral       0.39      0.49      0.43       930\n",
      "    positive       0.69      0.54      0.60      1953\n",
      "\n",
      "    accuracy                           0.58      4528\n",
      "   macro avg       0.56      0.57      0.56      4528\n",
      "weighted avg       0.60      0.58      0.58      4528\n",
      "\n"
     ]
    },
    {
     "data": {
      "text/plain": [
       "<sklearn.metrics._plot.confusion_matrix.ConfusionMatrixDisplay at 0x7fcbd9a55550>"
      ]
     },
     "execution_count": 10,
     "metadata": {},
     "output_type": "execute_result"
    },
    {
     "data": {
      "image/png": "[encoded data removed]",
      "text/plain": [
       "<Figure size 432x288 with 2 Axes>"
      ]
     },
     "metadata": {
      "needs_background": "light"
     },
     "output_type": "display_data"
    }
   ],
   "source": [
    "clf = LogisticRegression(class_weight = \"balanced\",max_iter=200).fit(X_train, y_train)\n",
    "\n",
    "prediction = clf.predict(X_test)\n",
    "\n",
    "print(classification_report(y_test,prediction,target_names=encoder.classes_))\n",
    "\n",
    "sklearn.metrics.plot_confusion_matrix(clf,X_test,y_test,display_labels=encoder.classes_,values_format=\"d\")"
   ]
  }
 ],
 "metadata": {
  "kernelspec": {
   "display_name": "Python 3",
   "language": "python",
   "name": "python3"
  },
  "language_info": {
   "codemirror_mode": {
    "name": "ipython",
    "version": 3
   },
   "file_extension": ".py",
   "mimetype": "text/x-python",
   "name": "python",
   "nbconvert_exporter": "python",
   "pygments_lexer": "ipython3",
   "version": "3.6.9"
  }
 },
 "nbformat": 4,
 "nbformat_minor": 4
}
