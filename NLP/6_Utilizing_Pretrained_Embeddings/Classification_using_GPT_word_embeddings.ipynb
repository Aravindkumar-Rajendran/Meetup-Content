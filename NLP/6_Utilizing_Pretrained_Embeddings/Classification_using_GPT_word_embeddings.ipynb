{
 "cells": [
  {
   "cell_type": "markdown",
   "metadata": {},
   "source": [
    "# Utilizing Trained GPT word Embeddings for classification.\n",
    "\n",
    "### prerequisite\n",
    "\n",
    "1. [Training GPT](https://github.com/huggingface/transformers/tree/master/examples)\n",
    "\n",
    "2. [Training Sentencepiece](https://github.com/google/sentencepiece)"
   ]
  },
  {
   "cell_type": "code",
   "execution_count": 1,
   "metadata": {},
   "outputs": [],
   "source": [
    "import torch\n",
    "import torchtext\n",
    "import numpy as np\n",
    "import sentencepiece as spm\n",
    "from sklearn.metrics.pairwise import cosine_similarity\n",
    "from sklearn.linear_model import LogisticRegression\n",
    "from sklearn.metrics import classification_report\n",
    "from sklearn.model_selection import train_test_split\n",
    "from sklearn.preprocessing import LabelEncoder\n",
    "import pandas as pd\n",
    "import sklearn"
   ]
  },
  {
   "cell_type": "code",
   "execution_count": null,
   "metadata": {},
   "outputs": [],
   "source": [
    "embeddings = torch.load(\"gpt_model.pt\") # load the saved gpt trained model\n",
    "embeddings =  embeddings[\"transformer.tokens_embed.weight\"].cpu().numpy() # get the embedding layer"
   ]
  },
  {
   "cell_type": "code",
   "execution_count": 2,
   "metadata": {},
   "outputs": [
    {
     "data": {
      "text/plain": [
       "True"
      ]
     },
     "execution_count": 2,
     "metadata": {},
     "output_type": "execute_result"
    }
   ],
   "source": [
    "# load the sentence piece model since using sentence piece makes our model and problem language agnostic\n",
    "sp = spm.SentencePieceProcessor()\n",
    "sp.load(\"SentencePiece_Tokenizer.model\")"
   ]
  },
  {
   "cell_type": "code",
   "execution_count": 3,
   "metadata": {},
   "outputs": [],
   "source": [
    "def get_token_vector(sent):\n",
    "    \"\"\"This methods returns the embedding of a specific token by performing a lookup\n",
    "    \"\"\"\n",
    "    return embeddings[sp.encode_as_ids(sent)]"
   ]
  },
  {
   "cell_type": "markdown",
   "metadata": {},
   "source": [
    "Suppose In a sentence we have 8 words so when use `get_token_vector` method we will get 8 vectors. To perform classification we need a fixed length sentence vector for that we use 3 different strategy to generate sentence vector.\n",
    "\n",
    "1. Mean - Take mean of all 8 word vectors\n",
    "2. Max - Take Max of all 8 word vectors\n",
    "3. Mean-Max - compute Mean and Max of 8 vectors and concatenate it."
   ]
  },
  {
   "cell_type": "code",
   "execution_count": 1,
   "metadata": {},
   "outputs": [],
   "source": [
    "def get_sentence_vector(sent , pool_strategy=\"mean_max_concat\"):\n",
    "    \"\"\" pooling strategy\n",
    "    mean,\n",
    "    max,\n",
    "    mean_max_concat\n",
    "    \"\"\"\n",
    "    tokens  = get_token_vector(sent)\n",
    "    if pool_strategy ==\"mean\":\n",
    "        return tokens.mean(axis=0)\n",
    "    elif pool_strategy == \"max\":\n",
    "        return tokens.max(axis=0)\n",
    "    elif pool_strategy == \"mean_max_concat\":\n",
    "        return np.concatenate([get_sentence_vector(sent,pool_s=\"mean\"),get_sentence_vector(sent,pool_s=\"max\")])\n",
    "    "
   ]
  },
  {
   "cell_type": "code",
   "execution_count": null,
   "metadata": {},
   "outputs": [],
   "source": [
    "df = pd.read_csv(\"my_sentiment_data.csv\") # load your sentiment csv data\n",
    "# it should have two columns text, sentiment"
   ]
  },
  {
   "cell_type": "code",
   "execution_count": null,
   "metadata": {},
   "outputs": [],
   "source": [
    "# encode the target column.\n",
    "encoder = LabelEncoder()\n",
    "target = encoder.fit_transform(df.sentiment)"
   ]
  },
  {
   "cell_type": "code",
   "execution_count": null,
   "metadata": {},
   "outputs": [],
   "source": [
    "# get sentence vector for all text inputs\n",
    "input = np.vstack(df.text.apply(get_sentence_vector).values)\n",
    "# create train test split\n",
    "X_train, X_test, y_train, y_test  = train_test_split(input,target,test_size=0.3,stratify=target)"
   ]
  },
  {
   "cell_type": "code",
   "execution_count": 4,
   "metadata": {},
   "outputs": [
    {
     "name": "stdout",
     "output_type": "stream",
     "text": [
      "              precision    recall  f1-score   support\n",
      "\n",
      "    negative       0.59      0.64      0.62      1645\n",
      "     neutral       0.57      0.09      0.15       930\n",
      "    positive       0.55      0.73      0.63      1953\n",
      "\n",
      "    accuracy                           0.57      4528\n",
      "   macro avg       0.57      0.49      0.46      4528\n",
      "weighted avg       0.57      0.57      0.53      4528\n",
      "\n"
     ]
    },
    {
     "data": {
      "text/plain": [
       "<sklearn.metrics._plot.confusion_matrix.ConfusionMatrixDisplay at 0x7f885ded7358>"
      ]
     },
     "execution_count": 4,
     "metadata": {},
     "output_type": "execute_result"
    },
    {
     "data": {
      "image/png": "[encoded data removed]",
      "text/plain": [
       "<Figure size 432x288 with 2 Axes>"
      ]
     },
     "metadata": {
      "needs_background": "light"
     },
     "output_type": "display_data"
    }
   ],
   "source": [
    "clf = LogisticRegression(max_iter=500).fit(X_train, y_train)\n",
    "\n",
    "prediction = clf.predict(X_test)\n",
    "\n",
    "print(classification_report(y_test,prediction,target_names=encoder.classes_))\n",
    "\n",
    "sklearn.metrics.plot_confusion_matrix(clf,X_test,y_test,display_labels=encoder.classes_,values_format=\"d\")"
   ]
  }
 ],
 "metadata": {
  "kernelspec": {
   "display_name": "Python 3",
   "language": "python",
   "name": "python3"
  },
  "language_info": {
   "codemirror_mode": {
    "name": "ipython",
    "version": 3
   },
   "file_extension": ".py",
   "mimetype": "text/x-python",
   "name": "python",
   "nbconvert_exporter": "python",
   "pygments_lexer": "ipython3",
   "version": "3.6.9"
  }
 },
 "nbformat": 4,
 "nbformat_minor": 4
}
